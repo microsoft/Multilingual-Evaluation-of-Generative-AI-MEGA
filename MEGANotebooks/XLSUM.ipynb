{
 "cells": [
  {
   "cell_type": "code",
   "execution_count": 1,
   "metadata": {},
   "outputs": [],
   "source": [
    "%load_ext autoreload\n",
    "%autoreload 2 "
   ]
  },
  {
   "cell_type": "code",
   "execution_count": 2,
   "metadata": {},
   "outputs": [],
   "source": [
    "import os \n",
    "os.chdir('../')"
   ]
  },
  {
   "cell_type": "code",
   "execution_count": 3,
   "metadata": {},
   "outputs": [],
   "source": [
    "from datasets import load_dataset\n",
    "import time \n",
    "import json\n",
    "import csv \n",
    "from promptsource.templates import Template, DatasetTemplates\n",
    "import yaml\n",
    "import random \n",
    "import openai\n",
    "from mega.data.data_utils import choose_few_shot_examples\n",
    "from mega.models.completion_models import gpt3x_completion\n",
    "from mega.prompting.instructions import INSTRUCTIONS\n",
    "from mega.utils.env_utils import load_env\n",
    "from yaml.loader import SafeLoader\n",
    "import numpy as np\n",
    "from rouge_score import rouge_scorer\n",
    "from tqdm import tqdm\n",
    "import wandb"
   ]
  },
  {
   "cell_type": "code",
   "execution_count": 4,
   "metadata": {},
   "outputs": [],
   "source": [
    "def read_parameters(args_path):\n",
    "    '''Function to read arguments + hyperparameters for testing.'''\n",
    "    with open(args_path) as f:\n",
    "        args = yaml.load(f, Loader=SafeLoader)\n",
    "        return args\n",
    "        \n",
    "def get_key(key_path):\n",
    "    with open(key_path) as f:\n",
    "        key = f.read().split(\"\\n\")[0]\n",
    "    return key\n",
    "\n",
    "def load_xlsum_data(lang, split, dataset_frac):\n",
    "    '''Loads the xlsum dataset'''\n",
    "    langs = ['oromo', 'french', 'amharic', 'arabic', 'azerbaijani', 'bengali', 'burmese', 'chinese_simplified', 'chinese_traditional', 'welsh', 'english', 'kirundi', 'gujarati', 'hausa', 'hindi', 'igbo', 'indonesian', 'japanese', 'korean', 'kyrgyz', 'marathi', 'spanish', 'scottish_gaelic', 'nepali', 'pashto', 'persian', 'pidgin', 'portuguese', 'punjabi', 'russian', 'serbian_cyrillic', 'serbian_latin', 'sinhala', 'somali', 'swahili', 'tamil', 'telugu', 'thai', 'tigrinya', 'turkish', 'ukrainian', 'urdu', 'uzbek', 'vietnamese', 'yoruba']\n",
    "    if lang in langs: \n",
    "        dataset = load_dataset(\"csebuetnlp/xlsum\", lang)[split]\n",
    "    else: \n",
    "        print('Language not supported.')\n",
    "    N = len(dataset)\n",
    "    selector = np.arange(int(N * dataset_frac))\n",
    "    return dataset.select(selector)\n",
    "\n",
    "def load_xlsum_prompts(lang, prompt_name):\n",
    "    '''Loads the xlsum prompts from promptsource'''\n",
    "    dataset_prompts = DatasetTemplates(\"csebuetnlp/xlsum\",f\"{lang}\")\n",
    "    return dataset_prompts[prompt_name]\n",
    "    \n",
    "def construct_prompt(ic_examples, test_example, train_prompt_template, test_prompt_template, chat_prompt, instruction):\n",
    "    if not chat_prompt:\n",
    "        train_prompts = [\"\\n\".join(train_prompt_template.apply(example)) for example in ic_examples ]\n",
    "        test_prompt_input, test_prompt_label = test_prompt_template.apply(test_example)\n",
    "        prompt_input = \"\\n\".join(train_prompts + [test_prompt_input]) + \"\\n\"\n",
    "    else:\n",
    "        messages = []\n",
    "        if instruction != \"\":\n",
    "            messages.append({\"role\": \"system\", \"content\": instruction})\n",
    "        for example in ic_examples:\n",
    "            prompt_input, prompt_label = train_prompt_template.apply(example)\n",
    "            messages.append({\"role\": \"user\", \"content\": prompt_input})\n",
    "            messages.append({\"role\": \"assistant\", \"content\": prompt_label})\n",
    "        test_prompt_input, test_prompt_label = test_prompt_template.apply(test_example)\n",
    "        messages.append({\"role\": \"user\", \"content\": test_prompt_input})\n",
    "        prompt_input = messages\n",
    "        \n",
    "    return prompt_input, test_prompt_label\n",
    " \n",
    "\n",
    "def dump_metrics(lang,r1,r2,rL, metric_logger_path):\n",
    "    with open(metric_logger_path, 'a') as f: \n",
    "            csvwriter = csv.writer(f, delimiter=',')\n",
    "            if not os.path.exists(metric_logger_path):\n",
    "                header = ['Language', 'R1', 'R2', 'RL']\n",
    "                csvwriter.writerow(header)\n",
    "            csvwriter.writerow([f'{lang}', f'{r1}', f'{r2}', f'{rL}'])\n",
    "        \n",
    "def dump_predictions(idx, response, response_logger_file):\n",
    "    obj = {'q_idx': idx, 'prediction': response}\n",
    "    with open(response_logger_file, 'a') as f: \n",
    "        f.write(json.dumps(obj, ensure_ascii=False) + '\\n')\n",
    "\n",
    "def compute_rouge(scorer, pred, label):\n",
    "    score = scorer.score(pred, label)\n",
    "    return score['rouge1'], score['rouge2'], score['rougeL']\n",
    "    "
   ]
  },
  {
   "cell_type": "code",
   "execution_count": null,
   "metadata": {},
   "outputs": [],
   "source": []
  },
  {
   "cell_type": "code",
   "execution_count": 12,
   "metadata": {},
   "outputs": [],
   "source": [
    "# Setting up Logging Command \n",
    "args = read_parameters('./MEGANotebooks/parameters.yaml')\n",
    "env_name = \"gpt4v2\"\n",
    "load_env(env_name=env_name)\n",
    "# openai.api_key = get_key(args['key_path'])\n",
    "# openai.api_base = \"https://gcrgpt4aoai6c.openai.azure.com/\"\n",
    "# openai.api_type = \"azure\"\n",
    "# openai.api_version = \"2023-03-15-preview\"  # this may change in the future\n",
    "instruction = INSTRUCTIONS[args['instruction_identifier']]"
   ]
  },
  {
   "cell_type": "code",
   "execution_count": 14,
   "metadata": {},
   "outputs": [],
   "source": [
    "if not os.path.exists(args['response_logger_root']):\n",
    "    os.mkdir(args['response_logger_root'])"
   ]
  },
  {
   "cell_type": "code",
   "execution_count": 15,
   "metadata": {
    "scrolled": false
   },
   "outputs": [
    {
     "name": "stderr",
     "output_type": "stream",
     "text": [
      "WARNING:datasets.builder:Found cached dataset xlsum (/home/t-kabirahuja/.cache/huggingface/datasets/csebuetnlp___xlsum/swahili/2.0.0/518ab0af76048660bcc2240ca6e8692a977c80e384ffb18fdddebaca6daebdce)\n"
     ]
    },
    {
     "data": {
      "application/vnd.jupyter.widget-view+json": {
       "model_id": "e56621c4ab5743b189dd0d413d020040",
       "version_major": 2,
       "version_minor": 0
      },
      "text/plain": [
       "  0%|          | 0/3 [00:00<?, ?it/s]"
      ]
     },
     "metadata": {},
     "output_type": "display_data"
    },
    {
     "name": "stderr",
     "output_type": "stream",
     "text": [
      "WARNING:datasets.builder:Found cached dataset xlsum (/home/t-kabirahuja/.cache/huggingface/datasets/csebuetnlp___xlsum/swahili/2.0.0/518ab0af76048660bcc2240ca6e8692a977c80e384ffb18fdddebaca6daebdce)\n"
     ]
    },
    {
     "data": {
      "application/vnd.jupyter.widget-view+json": {
       "model_id": "d5114b9bfd2047ccab1e7febfebc071c",
       "version_major": 2,
       "version_minor": 0
      },
      "text/plain": [
       "  0%|          | 0/3 [00:00<?, ?it/s]"
      ]
     },
     "metadata": {},
     "output_type": "display_data"
    },
    {
     "name": "stdout",
     "output_type": "stream",
     "text": [
      "Evaluation running for swahili on Test Set of 987\n"
     ]
    },
    {
     "data": {
      "text/html": [
       "Finishing last run (ID:5oqe45hc) before initializing another..."
      ],
      "text/plain": [
       "<IPython.core.display.HTML object>"
      ]
     },
     "metadata": {},
     "output_type": "display_data"
    },
    {
     "data": {
      "text/html": [
       "Waiting for W&B process to finish... <strong style=\"color:green\">(success).</strong>"
      ],
      "text/plain": [
       "<IPython.core.display.HTML object>"
      ]
     },
     "metadata": {},
     "output_type": "display_data"
    },
    {
     "data": {
      "text/html": [
       " View run <strong style=\"color:#cdcd00\">driven-aardvark-43</strong> at: <a href='https://wandb.ai/scai-msri/debug/runs/5oqe45hc' target=\"_blank\">https://wandb.ai/scai-msri/debug/runs/5oqe45hc</a><br/>Synced 5 W&B file(s), 0 media file(s), 0 artifact file(s) and 0 other file(s)"
      ],
      "text/plain": [
       "<IPython.core.display.HTML object>"
      ]
     },
     "metadata": {},
     "output_type": "display_data"
    },
    {
     "data": {
      "text/html": [
       "Find logs at: <code>./wandb/run-20230429_175059-5oqe45hc/logs</code>"
      ],
      "text/plain": [
       "<IPython.core.display.HTML object>"
      ]
     },
     "metadata": {},
     "output_type": "display_data"
    },
    {
     "data": {
      "text/html": [
       "Successfully finished last run (ID:5oqe45hc). Initializing new run:<br/>"
      ],
      "text/plain": [
       "<IPython.core.display.HTML object>"
      ]
     },
     "metadata": {},
     "output_type": "display_data"
    },
    {
     "data": {
      "application/vnd.jupyter.widget-view+json": {
       "model_id": "e8b63e9194f3436e900fa05297040f2c",
       "version_major": 2,
       "version_minor": 0
      },
      "text/plain": [
       "VBox(children=(Label(value='Waiting for wandb.init()...\\r'), FloatProgress(value=0.016668813466094435, max=1.0…"
      ]
     },
     "metadata": {},
     "output_type": "display_data"
    },
    {
     "data": {
      "text/html": [
       "Tracking run with wandb version 0.15.0"
      ],
      "text/plain": [
       "<IPython.core.display.HTML object>"
      ]
     },
     "metadata": {},
     "output_type": "display_data"
    },
    {
     "data": {
      "text/html": [
       "Run data is saved locally in <code>/home/t-kabirahuja/work/repos/MultilingualBlanketEval/wandb/run-20230429_175345-zu1482z4</code>"
      ],
      "text/plain": [
       "<IPython.core.display.HTML object>"
      ]
     },
     "metadata": {},
     "output_type": "display_data"
    },
    {
     "data": {
      "text/html": [
       "Syncing run <strong><a href='https://wandb.ai/scai-msri/debug/runs/zu1482z4' target=\"_blank\">likely-resonance-44</a></strong> to <a href='https://wandb.ai/scai-msri/debug' target=\"_blank\">Weights & Biases</a> (<a href='https://wandb.me/run' target=\"_blank\">docs</a>)<br/>"
      ],
      "text/plain": [
       "<IPython.core.display.HTML object>"
      ]
     },
     "metadata": {},
     "output_type": "display_data"
    },
    {
     "data": {
      "text/html": [
       " View project at <a href='https://wandb.ai/scai-msri/debug' target=\"_blank\">https://wandb.ai/scai-msri/debug</a>"
      ],
      "text/plain": [
       "<IPython.core.display.HTML object>"
      ]
     },
     "metadata": {},
     "output_type": "display_data"
    },
    {
     "data": {
      "text/html": [
       " View run at <a href='https://wandb.ai/scai-msri/debug/runs/zu1482z4' target=\"_blank\">https://wandb.ai/scai-msri/debug/runs/zu1482z4</a>"
      ],
      "text/plain": [
       "<IPython.core.display.HTML object>"
      ]
     },
     "metadata": {},
     "output_type": "display_data"
    },
    {
     "name": "stdout",
     "output_type": "stream",
     "text": [
      "Running Evaluation for prompt: DOC_write_summary_of_above\n",
      "Evaluating for swahili on a test set of 987\n"
     ]
    },
    {
     "name": "stderr",
     "output_type": "stream",
     "text": [
      "ROUGE-L: 0.07561327561327562: : 1it [00:06,  6.40s/it]"
     ]
    },
    {
     "name": "stdout",
     "output_type": "stream",
     "text": [
      "Exceeded Rate Limit. Waiting for 2 seconds\n",
      "Exceeded Rate Limit. Waiting for 4 seconds\n"
     ]
    },
    {
     "name": "stderr",
     "output_type": "stream",
     "text": [
      "ROUGE-L: 0.242984393453877: : 2it [00:18,  9.80s/it]  "
     ]
    },
    {
     "name": "stdout",
     "output_type": "stream",
     "text": [
      "Exceeded Rate Limit. Waiting for 2 seconds\n",
      "Exceeded Rate Limit. Waiting for 4 seconds\n"
     ]
    },
    {
     "name": "stderr",
     "output_type": "stream",
     "text": [
      "ROUGE-L: 0.2961415011646351: : 3it [00:30, 10.85s/it]"
     ]
    },
    {
     "name": "stdout",
     "output_type": "stream",
     "text": [
      "Exceeded Rate Limit. Waiting for 2 seconds\n",
      "Exceeded Rate Limit. Waiting for 4 seconds\n"
     ]
    },
    {
     "name": "stderr",
     "output_type": "stream",
     "text": [
      "ROUGE-L: 0.2961415011646351: : 3it [00:34, 11.48s/it]\n"
     ]
    },
    {
     "ename": "KeyboardInterrupt",
     "evalue": "",
     "output_type": "error",
     "traceback": [
      "\u001b[0;31m---------------------------------------------------------------------------\u001b[0m",
      "\u001b[0;31mRateLimitError\u001b[0m                            Traceback (most recent call last)",
      "File \u001b[0;32m~/work/repos/MultilingualBlanketEval/mega/models/completion_models.py:81\u001b[0m, in \u001b[0;36mgpt3x_completion\u001b[0;34m(prompt, model, run_details, num_evals_per_sec, backoff_base, backoff_rate, backoff_ceil, **model_params)\u001b[0m\n\u001b[1;32m     80\u001b[0m \u001b[38;5;28;01melse\u001b[39;00m:\n\u001b[0;32m---> 81\u001b[0m     response \u001b[38;5;241m=\u001b[39m \u001b[43mopenai\u001b[49m\u001b[38;5;241;43m.\u001b[39;49m\u001b[43mChatCompletion\u001b[49m\u001b[38;5;241;43m.\u001b[39;49m\u001b[43mcreate\u001b[49m\u001b[43m(\u001b[49m\n\u001b[1;32m     82\u001b[0m \u001b[43m        \u001b[49m\u001b[43mengine\u001b[49m\u001b[38;5;241;43m=\u001b[39;49m\u001b[43mmodel\u001b[49m\u001b[43m,\u001b[49m\n\u001b[1;32m     83\u001b[0m \u001b[43m        \u001b[49m\u001b[43mmessages\u001b[49m\u001b[38;5;241;43m=\u001b[39;49m\u001b[43mprompt\u001b[49m\u001b[43m,\u001b[49m\n\u001b[1;32m     84\u001b[0m \u001b[43m        \u001b[49m\u001b[43mmax_tokens\u001b[49m\u001b[38;5;241;43m=\u001b[39;49m\u001b[43mmodel_params\u001b[49m\u001b[38;5;241;43m.\u001b[39;49m\u001b[43mget\u001b[49m\u001b[43m(\u001b[49m\u001b[38;5;124;43m\"\u001b[39;49m\u001b[38;5;124;43mmax_tokens\u001b[39;49m\u001b[38;5;124;43m\"\u001b[39;49m\u001b[43m,\u001b[49m\u001b[43m \u001b[49m\u001b[38;5;241;43m20\u001b[39;49m\u001b[43m)\u001b[49m\u001b[43m,\u001b[49m\n\u001b[1;32m     85\u001b[0m \u001b[43m        \u001b[49m\u001b[43mtemperature\u001b[49m\u001b[38;5;241;43m=\u001b[39;49m\u001b[43mmodel_params\u001b[49m\u001b[38;5;241;43m.\u001b[39;49m\u001b[43mget\u001b[49m\u001b[43m(\u001b[49m\u001b[38;5;124;43m\"\u001b[39;49m\u001b[38;5;124;43mtemperature\u001b[39;49m\u001b[38;5;124;43m\"\u001b[39;49m\u001b[43m,\u001b[49m\u001b[43m \u001b[49m\u001b[38;5;241;43m1\u001b[39;49m\u001b[43m)\u001b[49m\u001b[43m,\u001b[49m\n\u001b[1;32m     86\u001b[0m \u001b[43m        \u001b[49m\u001b[43mtop_p\u001b[49m\u001b[38;5;241;43m=\u001b[39;49m\u001b[43mmodel_params\u001b[49m\u001b[38;5;241;43m.\u001b[39;49m\u001b[43mget\u001b[49m\u001b[43m(\u001b[49m\u001b[38;5;124;43m\"\u001b[39;49m\u001b[38;5;124;43mtop_p\u001b[39;49m\u001b[38;5;124;43m\"\u001b[39;49m\u001b[43m,\u001b[49m\u001b[43m \u001b[49m\u001b[38;5;241;43m1\u001b[39;49m\u001b[43m)\u001b[49m\u001b[43m,\u001b[49m\n\u001b[1;32m     87\u001b[0m \u001b[43m    \u001b[49m\u001b[43m)\u001b[49m\n\u001b[1;32m     88\u001b[0m     \u001b[38;5;28;01mif\u001b[39;00m \u001b[38;5;124m\"\u001b[39m\u001b[38;5;124mnum_calls\u001b[39m\u001b[38;5;124m\"\u001b[39m \u001b[38;5;129;01min\u001b[39;00m run_details:\n",
      "File \u001b[0;32m~/work/repos/MultilingualBlanketEval/envs/megaenv/lib/python3.8/site-packages/openai/api_resources/chat_completion.py:25\u001b[0m, in \u001b[0;36mChatCompletion.create\u001b[0;34m(cls, *args, **kwargs)\u001b[0m\n\u001b[1;32m     24\u001b[0m \u001b[38;5;28;01mtry\u001b[39;00m:\n\u001b[0;32m---> 25\u001b[0m     \u001b[38;5;28;01mreturn\u001b[39;00m \u001b[38;5;28;43msuper\u001b[39;49m\u001b[43m(\u001b[49m\u001b[43m)\u001b[49m\u001b[38;5;241;43m.\u001b[39;49m\u001b[43mcreate\u001b[49m\u001b[43m(\u001b[49m\u001b[38;5;241;43m*\u001b[39;49m\u001b[43margs\u001b[49m\u001b[43m,\u001b[49m\u001b[43m \u001b[49m\u001b[38;5;241;43m*\u001b[39;49m\u001b[38;5;241;43m*\u001b[39;49m\u001b[43mkwargs\u001b[49m\u001b[43m)\u001b[49m\n\u001b[1;32m     26\u001b[0m \u001b[38;5;28;01mexcept\u001b[39;00m TryAgain \u001b[38;5;28;01mas\u001b[39;00m e:\n",
      "File \u001b[0;32m~/work/repos/MultilingualBlanketEval/envs/megaenv/lib/python3.8/site-packages/openai/api_resources/abstract/engine_api_resource.py:153\u001b[0m, in \u001b[0;36mEngineAPIResource.create\u001b[0;34m(cls, api_key, api_base, api_type, request_id, api_version, organization, **params)\u001b[0m\n\u001b[1;32m    138\u001b[0m (\n\u001b[1;32m    139\u001b[0m     deployment_id,\n\u001b[1;32m    140\u001b[0m     engine,\n\u001b[0;32m   (...)\u001b[0m\n\u001b[1;32m    150\u001b[0m     api_key, api_base, api_type, api_version, organization, \u001b[38;5;241m*\u001b[39m\u001b[38;5;241m*\u001b[39mparams\n\u001b[1;32m    151\u001b[0m )\n\u001b[0;32m--> 153\u001b[0m response, _, api_key \u001b[38;5;241m=\u001b[39m \u001b[43mrequestor\u001b[49m\u001b[38;5;241;43m.\u001b[39;49m\u001b[43mrequest\u001b[49m\u001b[43m(\u001b[49m\n\u001b[1;32m    154\u001b[0m \u001b[43m    \u001b[49m\u001b[38;5;124;43m\"\u001b[39;49m\u001b[38;5;124;43mpost\u001b[39;49m\u001b[38;5;124;43m\"\u001b[39;49m\u001b[43m,\u001b[49m\n\u001b[1;32m    155\u001b[0m \u001b[43m    \u001b[49m\u001b[43murl\u001b[49m\u001b[43m,\u001b[49m\n\u001b[1;32m    156\u001b[0m \u001b[43m    \u001b[49m\u001b[43mparams\u001b[49m\u001b[38;5;241;43m=\u001b[39;49m\u001b[43mparams\u001b[49m\u001b[43m,\u001b[49m\n\u001b[1;32m    157\u001b[0m \u001b[43m    \u001b[49m\u001b[43mheaders\u001b[49m\u001b[38;5;241;43m=\u001b[39;49m\u001b[43mheaders\u001b[49m\u001b[43m,\u001b[49m\n\u001b[1;32m    158\u001b[0m \u001b[43m    \u001b[49m\u001b[43mstream\u001b[49m\u001b[38;5;241;43m=\u001b[39;49m\u001b[43mstream\u001b[49m\u001b[43m,\u001b[49m\n\u001b[1;32m    159\u001b[0m \u001b[43m    \u001b[49m\u001b[43mrequest_id\u001b[49m\u001b[38;5;241;43m=\u001b[39;49m\u001b[43mrequest_id\u001b[49m\u001b[43m,\u001b[49m\n\u001b[1;32m    160\u001b[0m \u001b[43m    \u001b[49m\u001b[43mrequest_timeout\u001b[49m\u001b[38;5;241;43m=\u001b[39;49m\u001b[43mrequest_timeout\u001b[49m\u001b[43m,\u001b[49m\n\u001b[1;32m    161\u001b[0m \u001b[43m\u001b[49m\u001b[43m)\u001b[49m\n\u001b[1;32m    163\u001b[0m \u001b[38;5;28;01mif\u001b[39;00m stream:\n\u001b[1;32m    164\u001b[0m     \u001b[38;5;66;03m# must be an iterator\u001b[39;00m\n",
      "File \u001b[0;32m~/work/repos/MultilingualBlanketEval/envs/megaenv/lib/python3.8/site-packages/openai/api_requestor.py:226\u001b[0m, in \u001b[0;36mAPIRequestor.request\u001b[0;34m(self, method, url, params, headers, files, stream, request_id, request_timeout)\u001b[0m\n\u001b[1;32m    216\u001b[0m result \u001b[38;5;241m=\u001b[39m \u001b[38;5;28mself\u001b[39m\u001b[38;5;241m.\u001b[39mrequest_raw(\n\u001b[1;32m    217\u001b[0m     method\u001b[38;5;241m.\u001b[39mlower(),\n\u001b[1;32m    218\u001b[0m     url,\n\u001b[0;32m   (...)\u001b[0m\n\u001b[1;32m    224\u001b[0m     request_timeout\u001b[38;5;241m=\u001b[39mrequest_timeout,\n\u001b[1;32m    225\u001b[0m )\n\u001b[0;32m--> 226\u001b[0m resp, got_stream \u001b[38;5;241m=\u001b[39m \u001b[38;5;28;43mself\u001b[39;49m\u001b[38;5;241;43m.\u001b[39;49m\u001b[43m_interpret_response\u001b[49m\u001b[43m(\u001b[49m\u001b[43mresult\u001b[49m\u001b[43m,\u001b[49m\u001b[43m \u001b[49m\u001b[43mstream\u001b[49m\u001b[43m)\u001b[49m\n\u001b[1;32m    227\u001b[0m \u001b[38;5;28;01mreturn\u001b[39;00m resp, got_stream, \u001b[38;5;28mself\u001b[39m\u001b[38;5;241m.\u001b[39mapi_key\n",
      "File \u001b[0;32m~/work/repos/MultilingualBlanketEval/envs/megaenv/lib/python3.8/site-packages/openai/api_requestor.py:620\u001b[0m, in \u001b[0;36mAPIRequestor._interpret_response\u001b[0;34m(self, result, stream)\u001b[0m\n\u001b[1;32m    618\u001b[0m \u001b[38;5;28;01melse\u001b[39;00m:\n\u001b[1;32m    619\u001b[0m     \u001b[38;5;28;01mreturn\u001b[39;00m (\n\u001b[0;32m--> 620\u001b[0m         \u001b[38;5;28;43mself\u001b[39;49m\u001b[38;5;241;43m.\u001b[39;49m\u001b[43m_interpret_response_line\u001b[49m\u001b[43m(\u001b[49m\n\u001b[1;32m    621\u001b[0m \u001b[43m            \u001b[49m\u001b[43mresult\u001b[49m\u001b[38;5;241;43m.\u001b[39;49m\u001b[43mcontent\u001b[49m\u001b[38;5;241;43m.\u001b[39;49m\u001b[43mdecode\u001b[49m\u001b[43m(\u001b[49m\u001b[38;5;124;43m\"\u001b[39;49m\u001b[38;5;124;43mutf-8\u001b[39;49m\u001b[38;5;124;43m\"\u001b[39;49m\u001b[43m)\u001b[49m\u001b[43m,\u001b[49m\n\u001b[1;32m    622\u001b[0m \u001b[43m            \u001b[49m\u001b[43mresult\u001b[49m\u001b[38;5;241;43m.\u001b[39;49m\u001b[43mstatus_code\u001b[49m\u001b[43m,\u001b[49m\n\u001b[1;32m    623\u001b[0m \u001b[43m            \u001b[49m\u001b[43mresult\u001b[49m\u001b[38;5;241;43m.\u001b[39;49m\u001b[43mheaders\u001b[49m\u001b[43m,\u001b[49m\n\u001b[1;32m    624\u001b[0m \u001b[43m            \u001b[49m\u001b[43mstream\u001b[49m\u001b[38;5;241;43m=\u001b[39;49m\u001b[38;5;28;43;01mFalse\u001b[39;49;00m\u001b[43m,\u001b[49m\n\u001b[1;32m    625\u001b[0m \u001b[43m        \u001b[49m\u001b[43m)\u001b[49m,\n\u001b[1;32m    626\u001b[0m         \u001b[38;5;28;01mFalse\u001b[39;00m,\n\u001b[1;32m    627\u001b[0m     )\n",
      "File \u001b[0;32m~/work/repos/MultilingualBlanketEval/envs/megaenv/lib/python3.8/site-packages/openai/api_requestor.py:683\u001b[0m, in \u001b[0;36mAPIRequestor._interpret_response_line\u001b[0;34m(self, rbody, rcode, rheaders, stream)\u001b[0m\n\u001b[1;32m    682\u001b[0m \u001b[38;5;28;01mif\u001b[39;00m stream_error \u001b[38;5;129;01mor\u001b[39;00m \u001b[38;5;129;01mnot\u001b[39;00m \u001b[38;5;241m200\u001b[39m \u001b[38;5;241m<\u001b[39m\u001b[38;5;241m=\u001b[39m rcode \u001b[38;5;241m<\u001b[39m \u001b[38;5;241m300\u001b[39m:\n\u001b[0;32m--> 683\u001b[0m     \u001b[38;5;28;01mraise\u001b[39;00m \u001b[38;5;28mself\u001b[39m\u001b[38;5;241m.\u001b[39mhandle_error_response(\n\u001b[1;32m    684\u001b[0m         rbody, rcode, resp\u001b[38;5;241m.\u001b[39mdata, rheaders, stream_error\u001b[38;5;241m=\u001b[39mstream_error\n\u001b[1;32m    685\u001b[0m     )\n\u001b[1;32m    686\u001b[0m \u001b[38;5;28;01mreturn\u001b[39;00m resp\n",
      "\u001b[0;31mRateLimitError\u001b[0m: Requests to the Creates a completion for the chat message Operation under Azure OpenAI API version 2023-03-15-preview have exceeded call rate limit of your current OpenAI S0 pricing tier. Please retry after 2 seconds. Please go here: https://aka.ms/oai/quotaincrease if you would like to further increase the default rate limit.",
      "\nDuring handling of the above exception, another exception occurred:\n",
      "\u001b[0;31mKeyboardInterrupt\u001b[0m                         Traceback (most recent call last)",
      "Cell \u001b[0;32mIn[15], line 42\u001b[0m\n\u001b[1;32m     40\u001b[0m prompt, label \u001b[38;5;241m=\u001b[39m construct_prompt(ic_examples, test_example, train_prompt_templates, test_prompt_templates, args[\u001b[38;5;124m'\u001b[39m\u001b[38;5;124mchat_prompt\u001b[39m\u001b[38;5;124m'\u001b[39m], instruction)\n\u001b[1;32m     41\u001b[0m time\u001b[38;5;241m.\u001b[39msleep(args[\u001b[38;5;124m'\u001b[39m\u001b[38;5;124msleep_period\u001b[39m\u001b[38;5;124m'\u001b[39m])\n\u001b[0;32m---> 42\u001b[0m pred \u001b[38;5;241m=\u001b[39m \u001b[43mgpt3x_completion\u001b[49m\u001b[43m(\u001b[49m\u001b[43mprompt\u001b[49m\u001b[43m \u001b[49m\u001b[38;5;241;43m=\u001b[39;49m\u001b[43m \u001b[49m\u001b[43mprompt\u001b[49m\u001b[43m,\u001b[49m\u001b[43m \u001b[49m\u001b[43mmodel\u001b[49m\u001b[43m \u001b[49m\u001b[38;5;241;43m=\u001b[39;49m\u001b[43m \u001b[49m\u001b[43mmodel\u001b[49m\u001b[43m,\u001b[49m\u001b[43m \u001b[49m\u001b[43mmax_tokens\u001b[49m\u001b[43m \u001b[49m\u001b[38;5;241;43m=\u001b[39;49m\u001b[43m \u001b[49m\u001b[43margs\u001b[49m\u001b[43m[\u001b[49m\u001b[38;5;124;43m'\u001b[39;49m\u001b[38;5;124;43mmax_tokens\u001b[39;49m\u001b[38;5;124;43m'\u001b[39;49m\u001b[43m]\u001b[49m\u001b[43m,\u001b[49m\u001b[43m \u001b[49m\u001b[43mtemperature\u001b[49m\u001b[43m \u001b[49m\u001b[38;5;241;43m=\u001b[39;49m\u001b[43m \u001b[49m\u001b[43margs\u001b[49m\u001b[43m[\u001b[49m\u001b[38;5;124;43m'\u001b[39;49m\u001b[38;5;124;43mtemperature\u001b[39;49m\u001b[38;5;124;43m'\u001b[39;49m\u001b[43m]\u001b[49m\u001b[43m,\u001b[49m\u001b[43m \u001b[49m\u001b[43mrun_details\u001b[49m\u001b[43m \u001b[49m\u001b[38;5;241;43m=\u001b[39;49m\u001b[43m \u001b[49m\u001b[43mrun_details\u001b[49m\u001b[43m)\u001b[49m\n\u001b[1;32m     43\u001b[0m run_details[\u001b[38;5;124m'\u001b[39m\u001b[38;5;124mlast_processed_idx\u001b[39m\u001b[38;5;124m'\u001b[39m] \u001b[38;5;241m=\u001b[39m idx\n\u001b[1;32m     44\u001b[0m batched_predictions\u001b[38;5;241m.\u001b[39mappend(pred)\n",
      "File \u001b[0;32m~/work/repos/MultilingualBlanketEval/mega/models/completion_models.py:104\u001b[0m, in \u001b[0;36mgpt3x_completion\u001b[0;34m(prompt, model, run_details, num_evals_per_sec, backoff_base, backoff_rate, backoff_ceil, **model_params)\u001b[0m\n\u001b[1;32m    102\u001b[0m     sleep_time \u001b[38;5;241m=\u001b[39m backoff_base \u001b[38;5;241m*\u001b[39m\u001b[38;5;241m*\u001b[39m backoff_count\n\u001b[1;32m    103\u001b[0m     \u001b[38;5;28mprint\u001b[39m(\u001b[38;5;124mf\u001b[39m\u001b[38;5;124m\"\u001b[39m\u001b[38;5;124mExceeded Rate Limit. Waiting for \u001b[39m\u001b[38;5;132;01m{\u001b[39;00msleep_time\u001b[38;5;132;01m}\u001b[39;00m\u001b[38;5;124m seconds\u001b[39m\u001b[38;5;124m\"\u001b[39m)\n\u001b[0;32m--> 104\u001b[0m     \u001b[43mtime\u001b[49m\u001b[38;5;241;43m.\u001b[39;49m\u001b[43msleep\u001b[49m\u001b[43m(\u001b[49m\u001b[43msleep_time\u001b[49m\u001b[43m)\u001b[49m\n\u001b[1;32m    105\u001b[0m     \u001b[38;5;28;01mcontinue\u001b[39;00m\n\u001b[1;32m    106\u001b[0m \u001b[38;5;28;01mexcept\u001b[39;00m (openai\u001b[38;5;241m.\u001b[39merror\u001b[38;5;241m.\u001b[39mAPIError,\u001b[38;5;167;01mTypeError\u001b[39;00m):\n",
      "\u001b[0;31mKeyboardInterrupt\u001b[0m: "
     ]
    }
   ],
   "source": [
    "for lang in args['lang']:\n",
    "    response_logger_file = f\"{args['response_logger_root']}/{lang}_predictions.csv\"\n",
    "    # Loading k in context examples to pass to the model \n",
    "\n",
    "    random.seed(args['random_seed'])\n",
    "    np.random.seed(args['random_seed'])\n",
    "\n",
    "    train_dataset = load_xlsum_data(lang, 'train', args['dataset_frac'])\n",
    "    ic_examples = choose_few_shot_examples(train_dataset, args['k'], 'random')\n",
    "\n",
    "    # Loading samples to evaluate on \n",
    "    test_examples = load_xlsum_data(lang, 'test', args['dataset_frac'])\n",
    "\n",
    "    # Delimiting the test set to run prompt selection for the model \n",
    "    model = args['model']\n",
    "    if args['prompt_selection']: \n",
    "        test_examples = load_xlsum_data(lang, 'validation', args['dataset_frac'])\n",
    "        model = args['turbo_identifier'] # Used for faster inference\n",
    "    else:          \n",
    "        print(f'Evaluation running for {lang} on Test Set of {len(test_examples)}')\n",
    "\n",
    "    # Initializing the metric \n",
    "    scorer = rouge_scorer.RougeScorer(['rouge1', 'rouge2','rougeL'], use_stemmer = True)\n",
    "\n",
    "    # Load prompt templates - Note that except English and a couple of other languages prompts do not exist - so you will have to generate prompts of these languages locally. \n",
    "    for prompt_name in args[\"prompt_names\"]:\n",
    "        wandb.init(project=\"debug\",  entity=\"scai-msri\", config=args)\n",
    "        wandb.config.lang = lang\n",
    "        wandb.config.prompt_names = prompt_name\n",
    "        wandb.run.name = f'{lang}' \n",
    "        run_details = {'num_calls': 0, 'content_filter_triggers': 0, 'last_processed_idx': 0}\n",
    "        print(f'Running Evaluation for prompt: {prompt_name}')\n",
    "        train_prompt_templates = load_xlsum_prompts(lang, prompt_name)\n",
    "        test_prompt_templates = load_xlsum_prompts(lang, prompt_name) #  Will ideally differ \n",
    "        print(f'Evaluating for {lang} on a test set of {len(test_examples)}')\n",
    "        rouge1, rouge2, rougeL, batched_predictions = [],[],[],[]\n",
    "\n",
    "        pbar = tqdm(enumerate(test_examples.select(range(min(args['max_prompt_selection_samples'], len(test_examples))))))\n",
    "        for idx, test_example in pbar: \n",
    "            prompt, label = construct_prompt(ic_examples, test_example, train_prompt_templates, test_prompt_templates, args['chat_prompt'], instruction)\n",
    "            time.sleep(args['sleep_period'])\n",
    "            pred = gpt3x_completion(prompt = prompt, model = model, max_tokens = args['max_tokens'], temperature = args['temperature'], run_details = run_details)\n",
    "            run_details['last_processed_idx'] = idx\n",
    "            batched_predictions.append(pred)\n",
    "            dump_predictions(idx, pred, response_logger_file)\n",
    "            r1, r2, rL = compute_rouge(scorer, pred, label)\n",
    "            rouge1.append(r1)\n",
    "            rouge2.append(r2)\n",
    "            rougeL.append(rL)\n",
    "            pbar.set_description(f\"ROUGE-L: {np.average(rougeL)}\")\n",
    "            wandb.log(run_details, step = idx + 1)\n",
    "            wandb.log({\"avg R1\": np.average(rouge1), \"avg R2\": np.average(rouge2), \"avg RL\": np.average(rougeL)}, step = idx + 1)\n",
    "\n",
    "        print(f'Average performance for the {prompt_name} in {lang} is ({np.average(rouge1)},{np.average(rouge2)},{np.average(rougeL)})')\n",
    "        dump_metrics(lang, np.average(rouge1), np.average(rouge2), np.average(rougeL), args['response_logger_root'] + args['metric_logger_path'])\n"
   ]
  },
  {
   "cell_type": "code",
   "execution_count": null,
   "metadata": {},
   "outputs": [],
   "source": []
  }
 ],
 "metadata": {
  "kernelspec": {
   "display_name": "Python 3 (ipykernel)",
   "language": "python",
   "name": "python3"
  },
  "language_info": {
   "codemirror_mode": {
    "name": "ipython",
    "version": 3
   },
   "file_extension": ".py",
   "mimetype": "text/x-python",
   "name": "python",
   "nbconvert_exporter": "python",
   "pygments_lexer": "ipython3",
   "version": "3.8.10"
  }
 },
 "nbformat": 4,
 "nbformat_minor": 2
}
