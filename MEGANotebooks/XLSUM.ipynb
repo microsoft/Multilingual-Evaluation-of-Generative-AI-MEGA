{
 "cells": [
  {
   "cell_type": "code",
   "execution_count": 1,
   "metadata": {},
   "outputs": [],
   "source": [
    "%load_ext autoreload\n",
    "%autoreload 2 "
   ]
  },
  {
   "cell_type": "code",
   "execution_count": 2,
   "metadata": {},
   "outputs": [],
   "source": [
    "import os \n",
    "os.chdir('../')"
   ]
  },
  {
   "cell_type": "code",
   "execution_count": 3,
   "metadata": {},
   "outputs": [],
   "source": [
    "from datasets import load_dataset\n",
    "import time \n",
    "import json\n",
    "import csv \n",
    "from promptsource.templates import Template, DatasetTemplates\n",
    "import yaml\n",
    "import random \n",
    "import openai\n",
    "from mega.data.data_utils import choose_few_shot_examples\n",
    "from mega.models.completion_models import gpt3x_completion\n",
    "from mega.prompting.instructions import INSTRUCTIONS\n",
    "from mega.utils.env_utils import load_env\n",
    "from yaml.loader import SafeLoader\n",
    "import numpy as np\n",
    "from rouge_score import rouge_scorer\n",
    "from tqdm import tqdm\n",
    "import wandb"
   ]
  },
  {
   "cell_type": "code",
   "execution_count": 4,
   "metadata": {},
   "outputs": [],
   "source": [
    "def read_parameters(args_path):\n",
    "    '''Function to read arguments + hyperparameters for testing.'''\n",
    "    with open(args_path) as f:\n",
    "        args = yaml.load(f, Loader=SafeLoader)\n",
    "        return args\n",
    "        \n",
    "def get_key(key_path):\n",
    "    with open(key_path) as f:\n",
    "        key = f.read().split(\"\\n\")[0]\n",
    "    return key\n",
    "\n",
    "def load_xlsum_data(lang, split, dataset_frac):\n",
    "    '''Loads the xlsum dataset'''\n",
    "    langs = ['oromo', 'french', 'amharic', 'arabic', 'azerbaijani', 'bengali', 'burmese', 'chinese_simplified', 'chinese_traditional', 'welsh', 'english', 'kirundi', 'gujarati', 'hausa', 'hindi', 'igbo', 'indonesian', 'japanese', 'korean', 'kyrgyz', 'marathi', 'spanish', 'scottish_gaelic', 'nepali', 'pashto', 'persian', 'pidgin', 'portuguese', 'punjabi', 'russian', 'serbian_cyrillic', 'serbian_latin', 'sinhala', 'somali', 'swahili', 'tamil', 'telugu', 'thai', 'tigrinya', 'turkish', 'ukrainian', 'urdu', 'uzbek', 'vietnamese', 'yoruba']\n",
    "    if lang in langs: \n",
    "        dataset = load_dataset(\"csebuetnlp/xlsum\", lang)[split]\n",
    "    else: \n",
    "        print('Language not supported.')\n",
    "    N = len(dataset)\n",
    "    selector = np.arange(int(N * dataset_frac))\n",
    "    return dataset.select(selector)\n",
    "\n",
    "def load_xlsum_prompts(lang, prompt_name):\n",
    "    '''Loads the xlsum prompts from promptsource'''\n",
    "    dataset_prompts = DatasetTemplates(\"csebuetnlp/xlsum\",f\"{lang}\")\n",
    "    return dataset_prompts[prompt_name]\n",
    "    \n",
    "def construct_prompt(ic_examples, test_example, train_prompt_template, test_prompt_template, chat_prompt, instruction):\n",
    "    if not chat_prompt:\n",
    "        train_prompts = [\"\\n\".join(train_prompt_template.apply(example)) for example in ic_examples ]\n",
    "        test_prompt_input, test_prompt_label = test_prompt_template.apply(test_example)\n",
    "        prompt_input = \"\\n\".join(train_prompts + [test_prompt_input]) + \"\\n\"\n",
    "    else:\n",
    "        messages = []\n",
    "        if instruction != \"\":\n",
    "            messages.append({\"role\": \"system\", \"content\": instruction})\n",
    "        for example in ic_examples:\n",
    "            prompt_input, prompt_label = train_prompt_template.apply(example)\n",
    "            messages.append({\"role\": \"user\", \"content\": prompt_input})\n",
    "            messages.append({\"role\": \"assistant\", \"content\": prompt_label})\n",
    "        test_prompt_input, test_prompt_label = test_prompt_template.apply(test_example)\n",
    "        messages.append({\"role\": \"user\", \"content\": test_prompt_input})\n",
    "        prompt_input = messages\n",
    "        \n",
    "    return prompt_input, test_prompt_label\n",
    " \n",
    "\n",
    "def dump_metrics(lang,r1,r2,rL, metric_logger_path):\n",
    "    with open(metric_logger_path, 'a') as f: \n",
    "            csvwriter = csv.writer(f, delimiter=',')\n",
    "            if not os.path.exists(metric_logger_path):\n",
    "                header = ['Language', 'R1', 'R2', 'RL']\n",
    "                csvwriter.writerow(header)\n",
    "            csvwriter.writerow([f'{lang}', f'{r1}', f'{r2}', f'{rL}'])\n",
    "        \n",
    "def dump_predictions(idx, response, response_logger_file):\n",
    "    obj = {'q_idx': idx, 'prediction': response}\n",
    "    with open(response_logger_file, 'a') as f: \n",
    "        f.write(json.dumps(obj, ensure_ascii=False) + '\\n')\n",
    "\n",
    "def compute_rouge(scorer, pred, label):\n",
    "    score = scorer.score(pred, label)\n",
    "    return score['rouge1'], score['rouge2'], score['rougeL']\n",
    "    "
   ]
  },
  {
   "cell_type": "code",
   "execution_count": null,
   "metadata": {},
   "outputs": [],
   "source": []
  },
  {
   "cell_type": "code",
   "execution_count": 5,
   "metadata": {},
   "outputs": [],
   "source": [
    "# Setting up Logging Command \n",
    "args = read_parameters('./MEGANotebooks/parameters.yaml')\n",
    "env_name = \"gpt4v2\"\n",
    "load_env(env_name=env_name)\n",
    "# openai.api_key = get_key(args['key_path'])\n",
    "# openai.api_base = \"https://gcrgpt4aoai6c.openai.azure.com/\"\n",
    "# openai.api_type = \"azure\"\n",
    "# openai.api_version = \"2023-03-15-preview\"  # this may change in the future\n",
    "# instruction = INSTRUCTIONS[args['instruction_identifier']]"
   ]
  },
  {
   "cell_type": "code",
   "execution_count": 6,
   "metadata": {},
   "outputs": [],
   "source": [
    "if not os.path.exists(args['response_logger_root']):\n",
    "    os.mkdir(args['response_logger_root'])"
   ]
  },
  {
   "cell_type": "code",
   "execution_count": 7,
   "metadata": {
    "scrolled": false
   },
   "outputs": [
    {
     "name": "stderr",
     "output_type": "stream",
     "text": [
      "Found cached dataset xlsum (/home/t-kabirahuja/.cache/huggingface/datasets/csebuetnlp___xlsum/swahili/2.0.0/518ab0af76048660bcc2240ca6e8692a977c80e384ffb18fdddebaca6daebdce)\n"
     ]
    },
    {
     "data": {
      "application/vnd.jupyter.widget-view+json": {
       "model_id": "a1f1342bb3244120952047ed0f0e2fed",
       "version_major": 2,
       "version_minor": 0
      },
      "text/plain": [
       "  0%|          | 0/3 [00:00<?, ?it/s]"
      ]
     },
     "metadata": {},
     "output_type": "display_data"
    },
    {
     "name": "stderr",
     "output_type": "stream",
     "text": [
      "Found cached dataset xlsum (/home/t-kabirahuja/.cache/huggingface/datasets/csebuetnlp___xlsum/swahili/2.0.0/518ab0af76048660bcc2240ca6e8692a977c80e384ffb18fdddebaca6daebdce)\n"
     ]
    },
    {
     "data": {
      "application/vnd.jupyter.widget-view+json": {
       "model_id": "c370f2167a5b4c139a47f1258e4c3530",
       "version_major": 2,
       "version_minor": 0
      },
      "text/plain": [
       "  0%|          | 0/3 [00:00<?, ?it/s]"
      ]
     },
     "metadata": {},
     "output_type": "display_data"
    },
    {
     "name": "stderr",
     "output_type": "stream",
     "text": [
      "Failed to detect the name of this notebook, you can set it manually with the WANDB_NOTEBOOK_NAME environment variable to enable code saving.\n"
     ]
    },
    {
     "name": "stdout",
     "output_type": "stream",
     "text": [
      "Evaluation running for swahili on Test Set of 987\n"
     ]
    },
    {
     "name": "stderr",
     "output_type": "stream",
     "text": [
      "\u001b[34m\u001b[1mwandb\u001b[0m: Currently logged in as: \u001b[33mkabirahuja2431\u001b[0m (\u001b[33mscai-msri\u001b[0m). Use \u001b[1m`wandb login --relogin`\u001b[0m to force relogin\n"
     ]
    },
    {
     "data": {
      "text/html": [
       "Tracking run with wandb version 0.15.0"
      ],
      "text/plain": [
       "<IPython.core.display.HTML object>"
      ]
     },
     "metadata": {},
     "output_type": "display_data"
    },
    {
     "data": {
      "text/html": [
       "Run data is saved locally in <code>/home/t-kabirahuja/work/repos/MultilingualBlanketEval/wandb/run-20230429_173446-xbt5gbp1</code>"
      ],
      "text/plain": [
       "<IPython.core.display.HTML object>"
      ]
     },
     "metadata": {},
     "output_type": "display_data"
    },
    {
     "data": {
      "text/html": [
       "Syncing run <strong><a href='https://wandb.ai/scai-msri/debug/runs/xbt5gbp1' target=\"_blank\">gentle-sky-40</a></strong> to <a href='https://wandb.ai/scai-msri/debug' target=\"_blank\">Weights & Biases</a> (<a href='https://wandb.me/run' target=\"_blank\">docs</a>)<br/>"
      ],
      "text/plain": [
       "<IPython.core.display.HTML object>"
      ]
     },
     "metadata": {},
     "output_type": "display_data"
    },
    {
     "data": {
      "text/html": [
       " View project at <a href='https://wandb.ai/scai-msri/debug' target=\"_blank\">https://wandb.ai/scai-msri/debug</a>"
      ],
      "text/plain": [
       "<IPython.core.display.HTML object>"
      ]
     },
     "metadata": {},
     "output_type": "display_data"
    },
    {
     "data": {
      "text/html": [
       " View run at <a href='https://wandb.ai/scai-msri/debug/runs/xbt5gbp1' target=\"_blank\">https://wandb.ai/scai-msri/debug/runs/xbt5gbp1</a>"
      ],
      "text/plain": [
       "<IPython.core.display.HTML object>"
      ]
     },
     "metadata": {},
     "output_type": "display_data"
    },
    {
     "name": "stderr",
     "output_type": "stream",
     "text": [
      "WARNING:root:Tried instantiating `DatasetTemplates` for csebuetnlp/xlsum swahili, but no prompts found. Please ignore this warning if you are creating new prompts for this dataset.\n"
     ]
    },
    {
     "name": "stdout",
     "output_type": "stream",
     "text": [
      "Running Evaluation for prompt: DOC_write_summary_of_above\n"
     ]
    },
    {
     "ename": "KeyError",
     "evalue": "'DOC_write_summary_of_above'",
     "output_type": "error",
     "traceback": [
      "\u001b[0;31m---------------------------------------------------------------------------\u001b[0m",
      "\u001b[0;31mKeyError\u001b[0m                                  Traceback (most recent call last)",
      "Cell \u001b[0;32mIn[7], line 33\u001b[0m\n\u001b[1;32m     31\u001b[0m run_details \u001b[38;5;241m=\u001b[39m {\u001b[38;5;124m'\u001b[39m\u001b[38;5;124mnum_calls\u001b[39m\u001b[38;5;124m'\u001b[39m: \u001b[38;5;241m0\u001b[39m, \u001b[38;5;124m'\u001b[39m\u001b[38;5;124mcontent_filter_triggers\u001b[39m\u001b[38;5;124m'\u001b[39m: \u001b[38;5;241m0\u001b[39m, \u001b[38;5;124m'\u001b[39m\u001b[38;5;124mlast_processed_idx\u001b[39m\u001b[38;5;124m'\u001b[39m: \u001b[38;5;241m0\u001b[39m}\n\u001b[1;32m     32\u001b[0m \u001b[38;5;28mprint\u001b[39m(\u001b[38;5;124mf\u001b[39m\u001b[38;5;124m'\u001b[39m\u001b[38;5;124mRunning Evaluation for prompt: \u001b[39m\u001b[38;5;132;01m{\u001b[39;00mprompt_name\u001b[38;5;132;01m}\u001b[39;00m\u001b[38;5;124m'\u001b[39m)\n\u001b[0;32m---> 33\u001b[0m train_prompt_templates \u001b[38;5;241m=\u001b[39m \u001b[43mload_xlsum_prompts\u001b[49m\u001b[43m(\u001b[49m\u001b[43mlang\u001b[49m\u001b[43m,\u001b[49m\u001b[43m \u001b[49m\u001b[43mprompt_name\u001b[49m\u001b[43m)\u001b[49m\n\u001b[1;32m     34\u001b[0m test_prompt_templates \u001b[38;5;241m=\u001b[39m load_xlsum_prompts(lang, prompt_name) \u001b[38;5;66;03m#  Will ideally differ \u001b[39;00m\n\u001b[1;32m     35\u001b[0m \u001b[38;5;28mprint\u001b[39m(\u001b[38;5;124mf\u001b[39m\u001b[38;5;124m'\u001b[39m\u001b[38;5;124mEvaluating for \u001b[39m\u001b[38;5;132;01m{\u001b[39;00mlang\u001b[38;5;132;01m}\u001b[39;00m\u001b[38;5;124m on a test set of \u001b[39m\u001b[38;5;132;01m{\u001b[39;00m\u001b[38;5;28mlen\u001b[39m(test_examples)\u001b[38;5;132;01m}\u001b[39;00m\u001b[38;5;124m'\u001b[39m)\n",
      "Cell \u001b[0;32mIn[4], line 26\u001b[0m, in \u001b[0;36mload_xlsum_prompts\u001b[0;34m(lang, prompt_name)\u001b[0m\n\u001b[1;32m     24\u001b[0m \u001b[38;5;250m\u001b[39m\u001b[38;5;124;03m'''Loads the xlsum prompts from promptsource'''\u001b[39;00m\n\u001b[1;32m     25\u001b[0m dataset_prompts \u001b[38;5;241m=\u001b[39m DatasetTemplates(\u001b[38;5;124m\"\u001b[39m\u001b[38;5;124mcsebuetnlp/xlsum\u001b[39m\u001b[38;5;124m\"\u001b[39m,\u001b[38;5;124mf\u001b[39m\u001b[38;5;124m\"\u001b[39m\u001b[38;5;132;01m{\u001b[39;00mlang\u001b[38;5;132;01m}\u001b[39;00m\u001b[38;5;124m\"\u001b[39m)\n\u001b[0;32m---> 26\u001b[0m \u001b[38;5;28;01mreturn\u001b[39;00m \u001b[43mdataset_prompts\u001b[49m\u001b[43m[\u001b[49m\u001b[43mprompt_name\u001b[49m\u001b[43m]\u001b[49m\n",
      "File \u001b[0;32m~/work/repos/MultilingualBlanketEval/promptsource/promptsource/templates.py:722\u001b[0m, in \u001b[0;36mDatasetTemplates.__getitem__\u001b[0;34m(self, template_key)\u001b[0m\n\u001b[1;32m    721\u001b[0m \u001b[38;5;28;01mdef\u001b[39;00m \u001b[38;5;21m__getitem__\u001b[39m(\u001b[38;5;28mself\u001b[39m, template_key: \u001b[38;5;28mstr\u001b[39m) \u001b[38;5;241m-\u001b[39m\u001b[38;5;241m>\u001b[39m \u001b[38;5;124m\"\u001b[39m\u001b[38;5;124mTemplate\u001b[39m\u001b[38;5;124m\"\u001b[39m:\n\u001b[0;32m--> 722\u001b[0m     \u001b[38;5;28;01mreturn\u001b[39;00m \u001b[38;5;28mself\u001b[39m\u001b[38;5;241m.\u001b[39mtemplates[\u001b[38;5;28;43mself\u001b[39;49m\u001b[38;5;241;43m.\u001b[39;49m\u001b[43mname_to_id_mapping\u001b[49m\u001b[43m[\u001b[49m\u001b[43mtemplate_key\u001b[49m\u001b[43m]\u001b[49m]\n",
      "\u001b[0;31mKeyError\u001b[0m: 'DOC_write_summary_of_above'"
     ]
    }
   ],
   "source": [
    "for lang in args['lang']:\n",
    "    response_logger_file = f\"{args['response_logger_root']}/{lang}_predictions.csv\"\n",
    "    # Loading k in context examples to pass to the model \n",
    "\n",
    "    random.seed(args['random_seed'])\n",
    "    np.random.seed(args['random_seed'])\n",
    "\n",
    "    train_dataset = load_xlsum_data(lang, 'train', args['dataset_frac'])\n",
    "    ic_examples = choose_few_shot_examples(train_dataset, args['k'], 'random')\n",
    "\n",
    "    # Loading samples to evaluate on \n",
    "    test_examples = load_xlsum_data(lang, 'test', args['dataset_frac'])\n",
    "\n",
    "    # Delimiting the test set to run prompt selection for the model \n",
    "    model = args['model']\n",
    "    if args['prompt_selection']: \n",
    "        test_examples = load_xlsum_data(lang, 'validation', args['dataset_frac'])\n",
    "        model = args['turbo_identifier'] # Used for faster inference\n",
    "    else:          \n",
    "        print(f'Evaluation running for {lang} on Test Set of {len(test_examples)}')\n",
    "\n",
    "    # Initializing the metric \n",
    "    scorer = rouge_scorer.RougeScorer(['rouge1', 'rouge2','rougeL'], use_stemmer = True)\n",
    "\n",
    "    # Load prompt templates - Note that except English and a couple of other languages prompts do not exist - so you will have to generate prompts of these languages locally. \n",
    "    for prompt_name in args[\"prompt_names\"]:\n",
    "        wandb.init(project=\"debug\",  entity=\"scai-msri\", config=args)\n",
    "        wandb.config.lang = lang\n",
    "        wandb.config.prompt_names = prompt_name\n",
    "        wandb.run.name = f'{lang}' \n",
    "        run_details = {'num_calls': 0, 'content_filter_triggers': 0, 'last_processed_idx': 0}\n",
    "        print(f'Running Evaluation for prompt: {prompt_name}')\n",
    "        train_prompt_templates = load_xlsum_prompts(lang, prompt_name)\n",
    "        test_prompt_templates = load_xlsum_prompts(lang, prompt_name) #  Will ideally differ \n",
    "        print(f'Evaluating for {lang} on a test set of {len(test_examples)}')\n",
    "        rouge1, rouge2, rougeL, batched_predictions = [],[],[],[]\n",
    "\n",
    "        pbar = tqdm(enumerate(test_examples.select(range(min(args['max_prompt_selection_samples'], len(test_examples))))))\n",
    "        for idx, test_example in pbar: \n",
    "            prompt, label = construct_prompt(ic_examples, test_example, train_prompt_templates, test_prompt_templates, args['chat_prompt'], instruction)\n",
    "            time.sleep(args['sleep_period'])\n",
    "            pred = gpt3x_completion(prompt = prompt, model = model, max_tokens = args['max_tokens'], temperature = args['temperature'], run_details = run_details)\n",
    "            run_details['last_processed_idx'] = idx\n",
    "            batched_predictions.append(pred)\n",
    "            dump_predictions(idx, pred, response_logger_file)\n",
    "            r1, r2, rL = compute_rouge(scorer, pred, label)\n",
    "            rouge1.append(r1)\n",
    "            rouge2.append(r2)\n",
    "            rougeL.append(rL)\n",
    "            pbar.set_description(f\"ROUGE-L: {np.average(rougeL)}\")\n",
    "            wandb.log(run_details, step = idx + 1)\n",
    "            wandb.log({\"avg R1\": np.average(rouge1), \"avg R2\": np.average(rouge2), \"avg RL\": np.average(rougeL)}, step = idx + 1)\n",
    "\n",
    "        print(f'Average performance for the {prompt_name} in {lang} is ({np.average(rouge1)},{np.average(rouge2)},{np.average(rougeL)})')\n",
    "        dump_metrics(lang, np.average(rouge1), np.average(rouge2), np.average(rougeL), args['response_logger_root'] + args['metric_logger_path'])\n"
   ]
  },
  {
   "cell_type": "code",
   "execution_count": null,
   "metadata": {},
   "outputs": [],
   "source": []
  }
 ],
 "metadata": {
  "kernelspec": {
   "display_name": "Python 3 (ipykernel)",
   "language": "python",
   "name": "python3"
  },
  "language_info": {
   "codemirror_mode": {
    "name": "ipython",
    "version": 3
   },
   "file_extension": ".py",
   "mimetype": "text/x-python",
   "name": "python",
   "nbconvert_exporter": "python",
   "pygments_lexer": "ipython3",
   "version": "3.8.10"
  }
 },
 "nbformat": 4,
 "nbformat_minor": 2
}
