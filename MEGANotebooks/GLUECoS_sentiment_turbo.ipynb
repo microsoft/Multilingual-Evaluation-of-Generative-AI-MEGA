{
    "cells": [
        {
            "cell_type": "code",
            "execution_count": 1,
            "id": "f0c754c6",
            "metadata": {},
            "outputs": [],
            "source": [
                "%load_ext autoreload\n",
                "%autoreload 2"
            ]
        },
        {
            "cell_type": "code",
            "execution_count": 2,
            "id": "160ff6df",
            "metadata": {},
            "outputs": [],
            "source": [
                "import os\n",
                "os.chdir(\"../\")"
            ]
        },
        {
            "cell_type": "code",
            "execution_count": 3,
            "id": "02807a9b",
            "metadata": {},
            "outputs": [],
            "source": [
                "# imports\n",
                "import warnings\n",
                "warnings.filterwarnings(\"ignore\")\n",
                "\n",
                "import time\n",
                "import random\n",
                "import openai\n",
                "import json\n",
                "from typing import Union\n",
                "import numpy as np\n",
                "import pandas as pd\n",
                "from datasets import Dataset, DatasetDict\n",
                "from mega.data.data_utils import choose_few_shot_examples\n",
                "from mega.prompting.instructions import INSTRUCTIONS\n",
                "from mega.prompting.prompting_utils import load_prompt_template\n",
                "from mega.utils.env_utils import load_openai_env_variables\n",
                "from mega.models.completion_models import get_model_pred, gpt3x_completion\n",
                "from mega.prompting.prompting_utils import construct_prompt, construct_cmsentiment_prompt\n",
                "from tqdm import tqdm"
            ]
        },
        {
            "cell_type": "code",
            "execution_count": 4,
            "id": "5fdecbd4",
            "metadata": {},
            "outputs": [],
            "source": [
                "# Make sure that {env_name}.env file is present in the envs/ directory\n",
                "env_name = \"melange\"\n",
                "load_env(env_name=env_name)"
            ]
        },
        {
            "cell_type": "code",
            "execution_count": 5,
            "id": "53f254c9",
            "metadata": {},
            "outputs": [
                {
                    "data": {
                        "text/plain": [
                            "'https://gpttesting1.openai.azure.com/'"
                        ]
                    },
                    "execution_count": 5,
                    "metadata": {},
                    "output_type": "execute_result"
                }
            ],
            "source": [
                "openai.api_base"
            ]
        },
        {
            "cell_type": "code",
            "execution_count": 6,
            "id": "2ce66e30",
            "metadata": {},
            "outputs": [],
            "source": [
                "random.seed(42)\n",
                "np.random.seed(42)"
            ]
        },
        {
            "cell_type": "markdown",
            "id": "28adbc17",
            "metadata": {},
            "source": [
                "Get data"
            ]
        },
        {
            "cell_type": "code",
            "execution_count": 7,
            "id": "225a3250",
            "metadata": {},
            "outputs": [
                {
                    "data": {
                        "text/plain": [
                            "DatasetDict({\n",
                            "    train: Dataset({\n",
                            "        features: ['text', 'label'],\n",
                            "        num_rows: 1851\n",
                            "    })\n",
                            "    test: Dataset({\n",
                            "        features: ['text', 'label'],\n",
                            "        num_rows: 231\n",
                            "    })\n",
                            "})"
                        ]
                    },
                    "execution_count": 7,
                    "metadata": {},
                    "output_type": "execute_result"
                }
            ],
            "source": [
                "# Read train.txt and test.txt files\n",
                "with open('data/code-mixed-datasets/sentiment/train.txt', 'r') as f:\n",
                "    train_lines = f.readlines()\n",
                "with open('data/code-mixed-datasets/sentiment/validation.txt', 'r') as f:\n",
                "    test_lines = f.readlines()\n",
                "\n",
                "# Create dictionaries with \"text\" and \"label\" keys and corresponding values from train.txt and test.txt\n",
                "train_dict = {\"text\": [], \"label\": []}\n",
                "for line in train_lines:\n",
                "    text, label = line.strip().split('\\t')\n",
                "    train_dict[\"text\"].append(text)\n",
                "    train_dict[\"label\"].append(label)\n",
                "\n",
                "test_dict = {\"text\": [], \"label\": []}\n",
                "for line in test_lines:\n",
                "    text, label = line.strip().split('\\t')\n",
                "    test_dict[\"text\"].append(text)\n",
                "    test_dict[\"label\"].append(label)\n",
                "\n",
                "# # Create Dataset objects\n",
                "train_dataset = Dataset.from_dict(train_dict)\n",
                "test_dataset = Dataset.from_dict(test_dict)\n",
                "\n",
                "# Create DatasetDict with \"train\" and \"test\" keys\n",
                "dataset_dict = DatasetDict({\"train\": train_dataset, \"test\": test_dataset})\n",
                "dataset_dict"
            ]
        },
        {
            "cell_type": "code",
            "execution_count": 43,
            "id": "5508b5b8",
            "metadata": {},
            "outputs": [],
            "source": [
                "model = \"gpt-35-turbo\"\n",
                "prompt_name = \"following positive negative neutral\"\n",
                "few_shot_k = 8"
            ]
        },
        {
            "cell_type": "code",
            "execution_count": 25,
            "id": "37a754c2",
            "metadata": {},
            "outputs": [
                {
                    "data": {
                        "text/plain": [
                            "{'text': ['campeon really hit me in the heart ! ! !',\n",
                            "  'hahah todo es bien pues , que estas haciendo que no te has dormido lol',\n",
                            "  'y nada de fat puro muscle',\n",
                            "  'stupid .. i think u do sometimes ! ! : o ya se por quien tmb ... lol',\n",
                            "  'yeaaa people will always bitch and have shit to say ! i was tld my damas looked better then me'],\n",
                            " 'label': ['positive', 'positive', 'neutral', 'negative', 'negative']}"
                        ]
                    },
                    "execution_count": 25,
                    "metadata": {},
                    "output_type": "execute_result"
                }
            ],
            "source": [
                "train_dataset[:5]"
            ]
        },
        {
            "cell_type": "code",
            "execution_count": 26,
            "id": "6815059b",
            "metadata": {},
            "outputs": [],
            "source": [
                "template = \"\"\"Does the following sentence have a positive, negative or neutral sentiment? {text}\"\"\"\n",
                "\n",
                "verbalizer = { \"positive\": \"positive\", \"negative\": \"negative\", \"neutral\": \"neutral\"}\n"
            ]
        },
        {
            "cell_type": "code",
            "execution_count": 27,
            "id": "390d4bbf",
            "metadata": {},
            "outputs": [
                {
                    "name": "stdout",
                    "output_type": "stream",
                    "text": [
                        "You are an NLP assistant whose purpose is to solve Sentiment Analysis problems. Sentiment Analysis is the task of determining whether the sentiment, opinion or emotion expressed in a textual data is: positive, negative, or neutral. Answer as concisely as possible in the same format as the examples below:\n"
                    ]
                }
            ],
            "source": [
                "# Loading instruction for the task\n",
                "instruction = INSTRUCTIONS[\"gluecos_sentiment\"]\n",
                "print(instruction)"
            ]
        },
        {
            "cell_type": "code",
            "execution_count": 44,
            "id": "09a49b22",
            "metadata": {},
            "outputs": [],
            "source": [
                "# Getting few-shot examples\n",
                "random.seed(42)\n",
                "np.random.seed(42)\n",
                "train_examples = choose_few_shot_examples(\n",
                "        train_dataset, few_shot_k, selection_criteria=\"random-stratified\")"
            ]
        },
        {
            "cell_type": "code",
            "execution_count": 45,
            "id": "a34aafbe",
            "metadata": {},
            "outputs": [
                {
                    "data": {
                        "text/plain": [
                            "[{'text': 'olvidalo tonto .. u got jokes tonight ! ! lol and maybe u should give me a job boss lmao jk im glad siguele por buen camino :)',\n",
                            "  'label': 'positive'},\n",
                            " {'text': 'she asked me \" mija me puedes limpiar la cocina esque no a dormido \" of course ma there is no need to even ask',\n",
                            "  'label': 'neutral'},\n",
                            " {'text': 'ahhh vergas ! ! ! aparesco chino tu you ? ?', 'label': 'neutral'},\n",
                            " {'text': 'do me a paro yeah ? get me a remix gram ? i got the diego',\n",
                            "  'label': 'neutral'},\n",
                            " {'text': 'pay back es lo q veo se usa mas :] y si pagar con la misma moneda .',\n",
                            "  'label': 'negative'},\n",
                            " {'text': 'guanajuato gano tonight en el carnaval eso mero mi jente (; ! ! !',\n",
                            "  'label': 'positive'},\n",
                            " {'text': 'no pues casi todas lmao , watch the news lol that always puts me rite to sleep xd',\n",
                            "  'label': 'negative'}]"
                        ]
                    },
                    "execution_count": 45,
                    "metadata": {},
                    "output_type": "execute_result"
                }
            ],
            "source": [
                "train_examples"
            ]
        },
        {
            "cell_type": "code",
            "execution_count": 46,
            "id": "959a3916",
            "metadata": {},
            "outputs": [
                {
                    "data": {
                        "text/plain": [
                            "'Does the following sentence have a positive, negative or neutral sentiment? olvidalo tonto .. u got jokes tonight ! ! lol and maybe u should give me a job boss lmao jk im glad siguele por buen camino :)\\npositive\\nDoes the following sentence have a positive, negative or neutral sentiment? she asked me \" mija me puedes limpiar la cocina esque no a dormido \" of course ma there is no need to even ask\\nneutral\\nDoes the following sentence have a positive, negative or neutral sentiment? ahhh vergas ! ! ! aparesco chino tu you ? ?\\nneutral\\nDoes the following sentence have a positive, negative or neutral sentiment? do me a paro yeah ? get me a remix gram ? i got the diego\\nneutral\\nDoes the following sentence have a positive, negative or neutral sentiment? pay back es lo q veo se usa mas :] y si pagar con la misma moneda .\\nnegative\\nDoes the following sentence have a positive, negative or neutral sentiment? guanajuato gano tonight en el carnaval eso mero mi jente (; ! ! !\\npositive\\nDoes the following sentence have a positive, negative or neutral sentiment? no pues casi todas lmao , watch the news lol that always puts me rite to sleep xd\\nnegative\\nDoes the following sentence have a positive, negative or neutral sentiment? que se vaya a chihuahua al baile lol con toy la de blanco ! !\\n'"
                        ]
                    },
                    "execution_count": 46,
                    "metadata": {},
                    "output_type": "execute_result"
                }
            ],
            "source": [
                "test_example = test_dataset[0]\n",
                "\n",
                "prompt, label = construct_cmsentiment_prompt(\n",
                "    train_examples,\n",
                "    test_dataset[0],\n",
                "    train_prompt_template=template,\n",
                "    test_prompt_template=template,\n",
                "    chat_prompt=True if model != \"DaVinci003\" else False,\n",
                "    instruction=instruction,\n",
                "    verbalizer=verbalizer\n",
                ")\n",
                "prompt"
            ]
        },
        {
            "cell_type": "code",
            "execution_count": 47,
            "id": "65b67c64",
            "metadata": {},
            "outputs": [
                {
                    "name": "stdout",
                    "output_type": "stream",
                    "text": [
                        "Prediction: positive\n",
                        "Label: neutral\n",
                        "Match: 0.0\n"
                    ]
                }
            ],
            "source": [
                "prediction = gpt3x_completion(\n",
                "    prompt,\n",
                "    model,\n",
                "    temperature=0,\n",
                "    max_tokens=10\n",
                ")\n",
                "match = float(prediction.startswith(label))\n",
                "print(f\"Prediction: {prediction}\")\n",
                "print(f\"Label: {label}\")\n",
                "print(f\"Match: {match}\")"
            ]
        },
        {
            "cell_type": "code",
            "execution_count": 48,
            "id": "e7adde71",
            "metadata": {},
            "outputs": [
                {
                    "name": "stderr",
                    "output_type": "stream",
                    "text": [
                        "Accuracy: 0.6883116883116883: 100%|█████████████████████████████████████████████████████████████| 231/231 [05:47<00:00,  1.50s/it]"
                    ]
                },
                {
                    "name": "stdout",
                    "output_type": "stream",
                    "text": [
                        "Accuracy: 0.6883116883116883\n"
                    ]
                },
                {
                    "name": "stderr",
                    "output_type": "stream",
                    "text": [
                        "\n",
                        "Bad pipe message: %s [b'\\xa6\\x14\\xea,\\xb8.\\x02\\xe0C', b'+\\xbd\\x86\\x8aY\\xacC \\xbcS\\xc9\\x98\\x9e$\\xfe:\\xfcLK\\x96\\xbd\\x95_\\x83\\x89\\x18T\\x8b\\xbd\\xc1\\x87\\xd8\\xc0&\\n\\xdb\\xe1\\x91Y\\xed\\x00\\x08\\x13\\x02\\x13\\x03\\x13\\x01\\x00\\xff\\x01\\x00\\x00\\x8f\\x00\\x00\\x00\\x0e\\x00\\x0c\\x00\\x00\\t127.0.0.1\\x00\\x0b\\x00\\x04\\x03\\x00\\x01\\x02\\x00\\n\\x00\\x0c\\x00\\n\\x00\\x1d\\x00\\x17\\x00']\n",
                        "Bad pipe message: %s [b'\\x19\\x00\\x18\\x00#\\x00\\x00\\x00\\x16\\x00\\x00\\x00\\x17\\x00\\x00\\x00\\r\\x00\\x1e\\x00\\x1c\\x04\\x03\\x05\\x03\\x06\\x03\\x08\\x07']\n",
                        "Bad pipe message: %s [b'\\x08\\t\\x08\\n\\x08\\x0b\\x08']\n",
                        "Bad pipe message: %s [b'\\x05\\x08\\x06']\n",
                        "Bad pipe message: %s [b'\\x05\\x01\\x06', b'']\n",
                        "Bad pipe message: %s [b\"et\\x8fQ4J\\xb6\\x00\\xfd\\x8e\\x17?\\xa5\\x16\\x93\\x88\\xa7b\\x00\\x00|\\xc0,\\xc00\\x00\\xa3\\x00\\x9f\\xcc\\xa9\\xcc\\xa8\\xcc\\xaa\\xc0\\xaf\\xc0\\xad\\xc0\\xa3\\xc0\\x9f\\xc0]\\xc0a\\xc0W\\xc0S\\xc0+\\xc0/\\x00\\xa2\\x00\\x9e\\xc0\\xae\\xc0\\xac\\xc0\\xa2\\xc0\\x9e\\xc0\\\\\\xc0`\\xc0V\\xc0R\\xc0$\\xc0(\\x00k\\x00j\\xc0#\\xc0'\\x00g\\x00@\\xc0\\n\\xc0\\x14\\x009\\x008\\xc0\\t\\xc0\\x13\\x003\\x002\\x00\\x9d\\xc0\\xa1\\xc0\\x9d\\xc0Q\\x00\\x9c\\xc0\\xa0\\xc0\\x9c\\xc0P\\x00=\\x00<\\x005\\x00/\\x00\\x9a\\x00\\x99\\xc0\\x07\"]\n",
                        "Bad pipe message: %s [b'\\x03\\x02\\x03\\x04\\x00-\\x00\\x02\\x01\\x01\\x003\\x00&\\x00$\\x00\\x1d\\x00 \\xceD\\xfd9P\\x95|\\xfdu\\x9eq\\xe3S\\xa3\\x8f\\xdaP/\\x8c\\xc3\\x11\\xf8']\n",
                        "Bad pipe message: %s [b'\\xd4\\xd4\\xad\\xa3=\\xa9L\\xcb\\x13a\\xf1\\xc9V\\xed\\xa3\\xb9\\xf9\\x11\\x00\\x00>\\xc0\\x14\\xc0\\n\\x009\\x008\\x007\\x006\\xc0\\x0f\\xc0\\x05\\x005\\xc0\\x13\\xc0\\t\\x003\\x002\\x001\\x000\\xc0\\x0e\\xc0\\x04\\x00/\\x00\\x9a\\x00\\x99\\x00\\x98\\x00\\x97\\x00\\x96\\x00\\x07\\xc0\\x11\\xc0\\x07\\xc0\\x0c\\xc0\\x02\\x00\\x05\\x00\\x04\\x00\\xff\\x02\\x01\\x00\\x00C\\x00\\x00\\x00\\x0e\\x00\\x0c\\x00\\x00\\t127.0.0.1\\x00\\x0b\\x00\\x04\\x03\\x00\\x01\\x02\\x00\\n\\x00\\x1c\\x00\\x1a\\x00\\x17\\x00\\x19\\x00', b'\\x1b\\x00\\x18\\x00\\x1a\\x00\\x16\\x00\\x0e\\x00\\r\\x00\\x0b\\x00\\x0c\\x00\\t\\x00\\n\\x00#\\x00\\x00\\x00\\x0f\\x00\\x01']\n",
                        "Bad pipe message: %s [b'', b'\\x00\\x02']\n",
                        "Bad pipe message: %s [b'\\xb4\\x8fW\\x0ch\\xe4\\x84\\xc2\\xf7Q\\x07\\x16;\\xf3\\xd7*\\xabW\\x00\\x00\\xa2\\xc0\\x14\\xc0\\n\\x009\\x008\\x007\\x006\\x00\\x88\\x00\\x87\\x00\\x86\\x00\\x85\\xc0\\x19\\x00:\\x00\\x89\\xc0\\x0f\\xc0\\x05\\x005\\x00\\x84\\xc0\\x13\\xc0\\t\\x003\\x002\\x001\\x000\\x00\\x9a\\x00\\x99\\x00\\x98\\x00\\x97\\x00E\\x00D\\x00C\\x00B\\xc0\\x18\\x004\\x00\\x9b\\x00F\\xc0\\x0e\\xc0\\x04\\x00/\\x00\\x96\\x00A\\x00\\x07\\xc0\\x11\\xc0\\x07\\xc0\\x16\\x00\\x18\\xc0\\x0c\\xc0\\x02\\x00\\x05\\x00\\x04\\xc0\\x12\\xc0\\x08\\x00\\x16\\x00\\x13\\x00\\x10\\x00\\r\\xc0\\x17\\x00\\x1b\\xc0\\r\\xc0\\x03\\x00\\n\\x00\\x15\\x00\\x12\\x00\\x0f\\x00\\x0c\\x00\\x1a\\x00\\t\\x00\\x14\\x00', b'\\x19\\x00\\x08\\x00\\x06\\x00\\x17\\x00\\x03\\xc0\\x10\\xc0\\x06\\xc0\\x15\\xc0']\n",
                        "Bad pipe message: %s [b'\\x01\\x00\\x02\\x00\\x01\\x00\\xff\\x02\\x01\\x00']\n",
                        "Bad pipe message: %s [b'\\xef\\xb8\\xb7<\\xfc\\xa2\\xd0\\x1bO\\x12\\xff1S\\x7f\\xac\\x87\\x11R\\x00\\x00\\xa2\\xc0\\x14\\xc0\\n\\x009\\x008\\x007\\x006\\x00\\x88\\x00\\x87\\x00\\x86\\x00\\x85\\xc0\\x19\\x00:\\x00\\x89\\xc0\\x0f\\xc0\\x05\\x005\\x00\\x84\\xc0\\x13\\xc0\\t\\x003\\x002\\x001\\x000\\x00\\x9a\\x00\\x99\\x00\\x98\\x00\\x97\\x00E\\x00D\\x00C\\x00B\\xc0\\x18\\x004\\x00\\x9b\\x00F\\xc0\\x0e\\xc0\\x04\\x00/\\x00\\x96\\x00A\\x00\\x07\\xc0\\x11\\xc0\\x07\\xc0\\x16\\x00\\x18\\xc0\\x0c\\xc0\\x02\\x00\\x05\\x00\\x04\\xc0\\x12\\xc0\\x08\\x00\\x16\\x00\\x13\\x00\\x10\\x00\\r\\xc0\\x17\\x00\\x1b\\xc0\\r\\xc0\\x03\\x00\\n\\x00\\x15\\x00\\x12\\x00\\x0f\\x00\\x0c\\x00\\x1a\\x00\\t\\x00\\x14\\x00\\x11\\x00\\x19\\x00\\x08\\x00\\x06\\x00\\x17\\x00\\x03\\xc0\\x10\\xc0\\x06\\xc0\\x15\\xc0\\x0b\\xc0\\x01\\x00\\x02\\x00\\x01\\x00\\xff\\x02\\x01\\x00\\x00C\\x00\\x00\\x00\\x0e\\x00\\x0c\\x00\\x00\\t127.0.0.1\\x00\\x0b\\x00\\x04\\x03\\x00\\x01\\x02\\x00\\n\\x00\\x1c\\x00\\x1a\\x00\\x17\\x00\\x19\\x00\\x1c\\x00\\x1b\\x00\\x18\\x00\\x1a\\x00\\x16\\x00\\x0e\\x00', b'\\x0b\\x00\\x0c\\x00\\t\\x00\\n\\x00#\\x00\\x00\\x00']\n",
                        "Bad pipe message: %s [b'l\\xbb\\x9c+f*=\\xc6\\xfc\\xeeCK\\xe1\\xcf\\xe8\\x84\\xd4\\xd7']\n",
                        "Bad pipe message: %s [b\"%z\\xd4F\\n\\x13E\\r&8/\\x06y$d\\x86}3\\x00\\x00\\x86\\xc00\\xc0,\\xc0(\\xc0$\\xc0\\x14\\xc0\\n\\x00\\xa5\\x00\\xa3\\x00\\xa1\\x00\\x9f\\x00k\\x00j\\x00i\\x00h\\x009\\x008\\x007\\x006\\xc02\\xc0.\\xc0*\\xc0&\\xc0\\x0f\\xc0\\x05\\x00\\x9d\\x00=\\x005\\xc0/\\xc0+\\xc0'\\xc0#\\xc0\\x13\\xc0\\t\\x00\\xa4\\x00\\xa2\\x00\\xa0\\x00\\x9e\\x00g\\x00@\\x00?\\x00>\\x003\\x002\\x001\\x000\\xc01\\xc0-\\xc0)\\xc0%\\xc0\\x0e\\xc0\\x04\\x00\\x9c\\x00<\\x00/\\x00\\x9a\\x00\\x99\\x00\\x98\\x00\\x97\\x00\\x96\\x00\\x07\\xc0\\x11\\xc0\\x07\\xc0\\x0c\\xc0\\x02\\x00\\x05\\x00\\x04\\x00\\xff\\x02\\x01\\x00\\x00g\\x00\\x00\\x00\\x0e\\x00\\x0c\\x00\\x00\\t127.0.0.1\\x00\\x0b\\x00\\x04\\x03\\x00\\x01\\x02\"]\n",
                        "Bad pipe message: %s [b'm:\\x1b\\xb4g7\\xf5\\x00{}\\xf8\\xb3^\\x1b\\xa1', b\"\\x04\\x00\\x00\\xf4\\xc00\\xc0,\\xc0(\\xc0$\\xc0\\x14\\xc0\\n\\x00\\xa5\\x00\\xa3\\x00\\xa1\\x00\\x9f\\x00k\\x00j\\x00i\\x00h\\x009\\x008\\x007\\x006\\x00\\x88\\x00\\x87\\x00\\x86\\x00\\x85\\xc0\\x19\\x00\\xa7\\x00m\\x00:\\x00\\x89\\xc02\\xc0.\\xc0*\\xc0&\\xc0\\x0f\\xc0\\x05\\x00\\x9d\\x00=\\x005\\x00\\x84\\xc0/\\xc0+\\xc0'\\xc0#\\xc0\\x13\\xc0\\t\\x00\\xa4\\x00\\xa2\\x00\\xa0\\x00\\x9e\\x00g\\x00@\\x00?\\x00>\\x003\\x002\\x001\\x000\\x00\\x9a\\x00\", b'\\x98\\x00\\x97\\x00E\\x00D\\x00C\\x00B\\xc0\\x18\\x00\\xa6\\x00l\\x004\\x00\\x9b\\x00F\\xc01\\xc0-\\xc0)\\xc0%\\xc0\\x0e\\xc0\\x04\\x00\\x9c\\x00<\\x00/\\x00\\x96\\x00A\\x00\\x07\\xc0\\x11\\xc0\\x07\\xc0\\x16\\x00\\x18\\xc0\\x0c\\xc0\\x02\\x00\\x05\\x00\\x04\\xc0\\x12\\xc0\\x08\\x00\\x16\\x00\\x13\\x00\\x10\\x00\\r\\xc0\\x17\\x00\\x1b\\xc0\\r\\xc0\\x03\\x00\\n\\x00\\x15\\x00\\x12\\x00\\x0f\\x00\\x0c\\x00\\x1a\\x00\\t\\x00\\x14\\x00\\x11\\x00\\x19\\x00\\x08\\x00\\x06\\x00\\x17\\x00\\x03\\xc0\\x10\\xc0\\x06\\xc0\\x15\\xc0\\x0b\\xc0\\x01\\x00;\\x00\\x02\\x00\\x01\\x00\\xff\\x02\\x01\\x00\\x00g\\x00\\x00\\x00\\x0e\\x00\\x0c\\x00\\x00\\t127.0.0.1']\n"
                    ]
                }
            ],
            "source": [
                "matches = []\n",
                "preds = []\n",
                "labels = []\n",
                "pbar = tqdm(test_dataset)\n",
                "for test_example in pbar:\n",
                "    prompt, label = construct_cmsentiment_prompt(\n",
                "        train_examples,\n",
                "        test_example,\n",
                "        train_prompt_template=template,\n",
                "        test_prompt_template=template,\n",
                "        chat_prompt=True if model != \"DaVinci003\" else False,\n",
                "        instruction=instruction,\n",
                "        verbalizer=verbalizer\n",
                "    )\n",
                "    prediction = gpt3x_completion(\n",
                "        prompt,\n",
                "        model,\n",
                "        temperature=0,\n",
                "        max_tokens=10\n",
                "    )\n",
                "    time.sleep(1/2)\n",
                "    match = float(prediction.startswith(label))\n",
                "    preds.append(prediction)\n",
                "    labels.append(label)\n",
                "    matches.append(match)\n",
                "    running_acc = np.mean(matches)\n",
                "    pbar.set_description(f\"Accuracy: {running_acc}\")\n",
                "\n",
                "print(f\"Accuracy: {np.mean(matches)}\")"
            ]
        },
        {
            "cell_type": "code",
            "execution_count": null,
            "id": "d0edf816",
            "metadata": {},
            "outputs": [],
            "source": []
        }
    ],
    "metadata": {
        "kernelspec": {
            "display_name": "Python 3 (ipykernel)",
            "language": "python",
            "name": "python3"
        },
        "language_info": {
            "codemirror_mode": {
                "name": "ipython",
                "version": 3
            },
            "file_extension": ".py",
            "mimetype": "text/x-python",
            "name": "python",
            "nbconvert_exporter": "python",
            "pygments_lexer": "ipython3",
            "version": "3.8.10"
        }
    },
    "nbformat": 4,
    "nbformat_minor": 5
}