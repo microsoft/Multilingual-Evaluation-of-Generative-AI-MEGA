{
 "cells": [
  {
   "cell_type": "code",
   "execution_count": 1,
   "id": "160ff6df",
   "metadata": {},
   "outputs": [],
   "source": [
    "import os\n",
    "os.chdir(\"../\")"
   ]
  },
  {
   "cell_type": "code",
   "execution_count": 2,
   "id": "02807a9b",
   "metadata": {},
   "outputs": [],
   "source": [
    "import time\n",
    "import openai\n",
    "import numpy as np\n",
    "from mega.data.load_datasets import load_xnli_dataset\n",
    "from mega.data.data_utils import choose_few_shot_examples\n",
    "from mega.prompting.instructions import INSTRUCTIONS\n",
    "from mega.prompting.prompting_utils import load_prompt_template\n",
    "from mega.utils.env_utils import load_env\n",
    "from mega.models.completion_models import get_model_pred, gpt3x_completion\n",
    "from mega.prompting.prompting_utils import construct_prompt\n",
    "from tqdm import tqdm"
   ]
  },
  {
   "cell_type": "code",
   "execution_count": 3,
   "id": "5fdecbd4",
   "metadata": {},
   "outputs": [],
   "source": [
    "# Make sure that {env_name}.env file is present in the envs/ directory\n",
    "env_name = \"melange\"\n",
    "load_env(env_name=env_name)"
   ]
  },
  {
   "cell_type": "code",
   "execution_count": 4,
   "id": "53f254c9",
   "metadata": {},
   "outputs": [
    {
     "data": {
      "text/plain": [
       "'https://gpttesting1.openai.azure.com/'"
      ]
     },
     "execution_count": 4,
     "metadata": {},
     "output_type": "execute_result"
    }
   ],
   "source": [
    "openai.api_base"
   ]
  },
  {
   "cell_type": "code",
   "execution_count": 5,
   "id": "5508b5b8",
   "metadata": {},
   "outputs": [],
   "source": [
    "model = \"gpt-35-turbo-deployment\"\n",
    "pivot_lang = \"hi\"\n",
    "tgt_lang = \"hi\"\n",
    "prompt_name = \"GPT-3 style\"\n",
    "few_shot_k = 8"
   ]
  },
  {
   "cell_type": "code",
   "execution_count": 6,
   "id": "47025064",
   "metadata": {},
   "outputs": [
    {
     "name": "stderr",
     "output_type": "stream",
     "text": [
      "Found cached dataset xnli (/home/t-kabirahuja/.cache/huggingface/datasets/xnli/hi/1.1.0/818164464f9c9fd15776ca8a00423b074344c3e929d00a2c1a84aa5a50c928bd)\n"
     ]
    },
    {
     "data": {
      "application/vnd.jupyter.widget-view+json": {
       "model_id": "e83f23ff05bd477eb50e5fea1af50f59",
       "version_major": 2,
       "version_minor": 0
      },
      "text/plain": [
       "  0%|          | 0/3 [00:00<?, ?it/s]"
      ]
     },
     "metadata": {},
     "output_type": "display_data"
    },
    {
     "name": "stderr",
     "output_type": "stream",
     "text": [
      "Found cached dataset xnli (/home/t-kabirahuja/.cache/huggingface/datasets/xnli/hi/1.1.0/818164464f9c9fd15776ca8a00423b074344c3e929d00a2c1a84aa5a50c928bd)\n"
     ]
    },
    {
     "data": {
      "application/vnd.jupyter.widget-view+json": {
       "model_id": "960566542a7543ff8077cc9aec391028",
       "version_major": 2,
       "version_minor": 0
      },
      "text/plain": [
       "  0%|          | 0/3 [00:00<?, ?it/s]"
      ]
     },
     "metadata": {},
     "output_type": "display_data"
    }
   ],
   "source": [
    "# Loading datasets\n",
    "train_dataset = load_xnli_dataset(pivot_lang, split = \"train\")\n",
    "test_dataset = load_xnli_dataset(tgt_lang, split = \"validation\")"
   ]
  },
  {
   "cell_type": "code",
   "execution_count": 7,
   "id": "8d6f51d1",
   "metadata": {},
   "outputs": [
    {
     "name": "stdout",
     "output_type": "stream",
     "text": [
      "{{premise}}\n",
      "Question: {{hypothesis}} True, False, or Neither? ||| {{ answer_choices[label] }}\n"
     ]
    }
   ],
   "source": [
    "# Loading prompt template\n",
    "prompt_template = load_prompt_template(pivot_lang, prompt_name, dataset = \"xnli\")\n",
    "print(prompt_template.jinja)"
   ]
  },
  {
   "cell_type": "code",
   "execution_count": 8,
   "id": "390d4bbf",
   "metadata": {},
   "outputs": [
    {
     "name": "stdout",
     "output_type": "stream",
     "text": [
      "You are an NLP assistant whose purpose is to solve Natural Language Inference (NLI) problems. NLI is the task of determining the inference relation between two (short, ordered) texts: entailment, contradiction, or neutral. Answer as concisely as possible in the same format as the examples below:\n"
     ]
    }
   ],
   "source": [
    "# Loading instruction for the task\n",
    "instruction = INSTRUCTIONS[\"xnli\"]\n",
    "print(instruction)"
   ]
  },
  {
   "cell_type": "code",
   "execution_count": 9,
   "id": "09a49b22",
   "metadata": {},
   "outputs": [],
   "source": [
    "# Getting few-shot examples\n",
    "train_examples = choose_few_shot_examples(\n",
    "        train_dataset, few_shot_k, selection_criteria=\"random\")"
   ]
  },
  {
   "cell_type": "code",
   "execution_count": 10,
   "id": "959a3916",
   "metadata": {},
   "outputs": [
    {
     "data": {
      "text/plain": [
       "[{'role': 'system',\n",
       "  'content': 'You are an NLP assistant whose purpose is to solve Natural Language Inference (NLI) problems. NLI is the task of determining the inference relation between two (short, ordered) texts: entailment, contradiction, or neutral. Answer as concisely as possible in the same format as the examples below:'},\n",
       " {'role': 'user',\n",
       "  'content': 'मैंने हाल ही में देखा है कि मैं अपने वॉर ् डरोब को अपडेट करने की कोशिश करने की कोशिश कर रहा हूँ कि मैं जैकेट और ब ् लाउज का एक ् सचेंज कर सकता हूँ और सभी बहुत कुछ\\nQuestion: सुबह में मैं आमतौर पर बस इसलिए फेंक रहा हूँ क ् योंकि मैं काम करने के लिए जींस पहनना पसंद करता हूँ True, False, or Neither?'},\n",
       " {'role': 'assistant', 'content': 'False'},\n",
       " {'role': 'user',\n",
       "  'content': 'लेकिन कुछ देशों में मुद ् रा चिंतन में बहुत अधिक प ् रभाव पड ़ सकता है , अन ् य लोगों में मुद ् रा छोड ़ ने को लगता है कि डॉक ् टर ने क ् या आदेश दिया है .\\nQuestion: मुद ् रा अटकलें अवैध होना चाहिए . True, False, or Neither?'},\n",
       " {'role': 'assistant', 'content': 'Neither'},\n",
       " {'role': 'user',\n",
       "  'content': 'यह डेटा संक ् षिप ् त सेवा और / या सलाह और सलाह के मामलों की संख ् या के बीच का संकेत देता है .\\nQuestion: यह डेटा किसी भी प ् रकार के मामलों को बंद करने और कानूनी टीम के आकार के बीच प ् रकट करने के लिए प ् रकट नहीं होता है . True, False, or Neither?'},\n",
       " {'role': 'assistant', 'content': 'False'},\n",
       " {'role': 'user',\n",
       "  'content': 'नमूनाकृत पोस ् ट के लिए 2 . कुल मूल ् य समारोह\\nQuestion: यह नमूनाकृत पोस ् ट के लिए कुल लागत के कार ् यों का एक चित ् र है True, False, or Neither?'},\n",
       " {'role': 'assistant', 'content': 'True'},\n",
       " {'role': 'user',\n",
       "  'content': 'एक टुकड ़ ा का दावा है कि घर flytrap कार ् रवाई का अभाव है -- उनके पास ft की सारी भव ् यता है ।\\nQuestion: सदन का flytrap कार ् रवाई pizzagate की उठना में नहीं है . True, False, or Neither?'},\n",
       " {'role': 'assistant', 'content': 'Neither'},\n",
       " {'role': 'user',\n",
       "  'content': 'मैंने एक गलती की .\\nQuestion: मैं गलत था . True, False, or Neither?'},\n",
       " {'role': 'assistant', 'content': 'Neither'},\n",
       " {'role': 'user',\n",
       "  'content': 'अभी के अंदर नहीं है जब हमने घर खरीदा था कि हम सही में रहते हैं कि हम एक कंपनी थी जो बाहर आया और उसे चित ् रित किया गया था कि आप की आवश ् यकताओं में से एक है\\nQuestion: हम खुद के घर को पेंट करना चाहते थे , लेकिन fha ने उससे बाहर की कंपनी की मांग की है . True, False, or Neither?'},\n",
       " {'role': 'assistant', 'content': 'Neither'},\n",
       " {'role': 'user',\n",
       "  'content': 'दो बड ़ े पहलवानों के प ् रतीकात ् मक , एक शक ् तिशाली , एक शक ् तिशाली , इस संरचना के खुले ड ् यौढ ़ ी , और ऊपर एक स ् तंभ पर एक gilded गरुड ़ घुटनों की तरह .\\nQuestion: पहला मल ् ल एक मजबूत आदमी था , थे एक पहलवान . True, False, or Neither?'},\n",
       " {'role': 'assistant', 'content': 'True'},\n",
       " {'role': 'user',\n",
       "  'content': 'और उसने कहा, माँ, मैं घर आया हूं।\\nQuestion: जब ही उसकी स्कूल बस ने उसे उतरा उसने अपनी माँ को बुलाया True, False, or Neither?'}]"
      ]
     },
     "execution_count": 10,
     "metadata": {},
     "output_type": "execute_result"
    }
   ],
   "source": [
    "test_example = test_dataset[0]\n",
    "\n",
    "prompt, label = construct_prompt(\n",
    "    train_examples,\n",
    "    test_dataset[0],\n",
    "    train_prompt_template=prompt_template,\n",
    "    test_prompt_template=prompt_template,\n",
    "    chat_prompt=True,\n",
    "    instruction=instruction\n",
    ")\n",
    "prompt"
   ]
  },
  {
   "cell_type": "code",
   "execution_count": 11,
   "id": "65b67c64",
   "metadata": {},
   "outputs": [
    {
     "name": "stdout",
     "output_type": "stream",
     "text": [
      "Prediction: True\n",
      "Label: Neither\n",
      "Match: 0.0\n"
     ]
    }
   ],
   "source": [
    "prediction = gpt3x_completion(\n",
    "    prompt,\n",
    "    model,\n",
    "    temperature=0,\n",
    "    max_tokens=10\n",
    ")\n",
    "match = float(prediction.startswith(label))\n",
    "print(f\"Prediction: {prediction}\")\n",
    "print(f\"Label: {label}\")\n",
    "print(f\"Match: {match}\")"
   ]
  },
  {
   "cell_type": "code",
   "execution_count": 13,
   "id": "e7adde71",
   "metadata": {},
   "outputs": [
    {
     "name": "stderr",
     "output_type": "stream",
     "text": [
      "100%|█████████████████████████████████████████████████████████████████████████████████████████████████████████████████████████| 100/100 [01:32<00:00,  1.09it/s]"
     ]
    },
    {
     "name": "stdout",
     "output_type": "stream",
     "text": [
      "Accuracy: 0.54\n"
     ]
    },
    {
     "name": "stderr",
     "output_type": "stream",
     "text": [
      "\n"
     ]
    }
   ],
   "source": [
    "matches = []\n",
    "preds = []\n",
    "labels = []\n",
    "for test_example in tqdm(test_dataset.select(range(100))):\n",
    "    prompt, label = construct_prompt(\n",
    "        train_examples,\n",
    "        test_example,\n",
    "        train_prompt_template=prompt_template,\n",
    "        test_prompt_template=prompt_template,\n",
    "        chat_prompt=True,\n",
    "        instruction=instruction\n",
    "    )\n",
    "    prediction = gpt3x_completion(\n",
    "        prompt,\n",
    "        model,\n",
    "        temperature=0,\n",
    "        max_tokens=10\n",
    "    )\n",
    "    time.sleep(1/2)\n",
    "    match = float(prediction.startswith(label))\n",
    "    preds.append(prediction)\n",
    "    labels.append(label)\n",
    "    matches.append(match)\n",
    "\n",
    "print(f\"Accuracy: {np.mean(matches)}\")"
   ]
  },
  {
   "cell_type": "code",
   "execution_count": null,
   "id": "e24840d8",
   "metadata": {},
   "outputs": [],
   "source": []
  }
 ],
 "metadata": {
  "kernelspec": {
   "display_name": "Python 3 (ipykernel)",
   "language": "python",
   "name": "python3"
  },
  "language_info": {
   "codemirror_mode": {
    "name": "ipython",
    "version": 3
   },
   "file_extension": ".py",
   "mimetype": "text/x-python",
   "name": "python",
   "nbconvert_exporter": "python",
   "pygments_lexer": "ipython3",
   "version": "3.8.10"
  }
 },
 "nbformat": 4,
 "nbformat_minor": 5
}
